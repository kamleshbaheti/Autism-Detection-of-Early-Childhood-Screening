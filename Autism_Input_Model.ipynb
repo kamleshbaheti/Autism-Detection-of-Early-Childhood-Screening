{
 "cells": [
  {
   "cell_type": "code",
   "execution_count": null,
   "id": "c1a96bb9-28c7-4085-906e-e144d94376f6",
   "metadata": {
    "tags": []
   },
   "outputs": [],
   "source": [
    "import pandas as pd\n",
    "import numpy as np\n",
    "import matplotlib.pyplot as plt\n",
    "import seaborn as sns"
   ]
  },
  {
   "cell_type": "code",
   "execution_count": null,
   "id": "65222898-0e3c-4197-a9b3-fe6786d02d53",
   "metadata": {
    "tags": []
   },
   "outputs": [],
   "source": [
    "df = pd.read_csv(r\"C:\\Users\\Administrator\\Documents\\Datasets\\Autism\\Toddler Autism dataset July 2018.csv\")"
   ]
  },
  {
   "cell_type": "code",
   "execution_count": null,
   "id": "68e0c837-1267-49d9-83d7-cb29f1ad266c",
   "metadata": {
    "tags": []
   },
   "outputs": [],
   "source": [
    "df.info()"
   ]
  },
  {
   "cell_type": "code",
   "execution_count": null,
   "id": "a5f0ccb8-c555-4340-8a28-78b9809588a6",
   "metadata": {
    "tags": []
   },
   "outputs": [],
   "source": [
    "df = df.rename(columns = {'Class/ASD Traits ' : 'ASD'})\n",
    "df = df.rename(columns = {'A1' : 'Q1'})\n",
    "df = df.rename(columns = {'A2' : 'Q2'})\n",
    "df = df.rename(columns = {'A3' : 'Q3'})\n",
    "df = df.rename(columns = {'A4' : 'Q4'})\n",
    "df = df.rename(columns = {'A5' : 'Q5'})\n",
    "df = df.rename(columns = {'A6' : 'Q6'})\n",
    "df = df.rename(columns = {'A7' : 'Q7'})\n",
    "df = df.rename(columns = {'A8' : 'Q8'})\n",
    "df = df.rename(columns = {'A9' : 'Q9'})\n",
    "df = df.rename(columns = {'A10' : 'Q10'})\n",
    "df = df.rename(columns = {'Age_Mons' : 'Age in Months'})\n",
    "df = df.rename(columns = {'Sex' : 'Gender'})\n",
    "df = df.rename(columns = {'Qchat-10-Score' : 'Score out of 10'})\n",
    "df = df.rename(columns = {'Ethnicity' : 'Region'})\n",
    "df"
   ]
  },
  {
   "cell_type": "code",
   "execution_count": null,
   "id": "56680621-b09c-4bd0-8037-00f1366bdd75",
   "metadata": {
    "tags": []
   },
   "outputs": [],
   "source": [
    "x = df.drop('Case_No' , axis = 1)\n",
    "x = x.drop('ASD', axis = 1)\n",
    "y = df['ASD']"
   ]
  },
  {
   "cell_type": "code",
   "execution_count": null,
   "id": "19e408f1-a241-4ede-a863-a6f4b48598b7",
   "metadata": {
    "tags": []
   },
   "outputs": [],
   "source": [
    "x.shape, y.shape"
   ]
  },
  {
   "cell_type": "code",
   "execution_count": null,
   "id": "b02c2fea-86df-4f27-8496-4a941729bb12",
   "metadata": {
    "tags": []
   },
   "outputs": [],
   "source": [
    "from sklearn.model_selection import train_test_split\n",
    "x_train, x_test, y_train, y_test = train_test_split(x, y, test_size = 0.2, random_state = 36)"
   ]
  },
  {
   "cell_type": "code",
   "execution_count": null,
   "id": "e94e4dc3-7f4f-42e7-86e2-d8c7f6c6b22f",
   "metadata": {
    "tags": []
   },
   "outputs": [],
   "source": [
    "obj_cols = x_train.select_dtypes(include = 'object').columns\n",
    "obj_cols"
   ]
  },
  {
   "cell_type": "code",
   "execution_count": null,
   "id": "0773180c-663e-4390-bec9-91caea98021f",
   "metadata": {
    "tags": []
   },
   "outputs": [],
   "source": [
    "float_cols = x_train.select_dtypes(include = 'int64').columns\n",
    "float_cols"
   ]
  },
  {
   "cell_type": "code",
   "execution_count": null,
   "id": "920d90a8-0201-4b61-9a00-4181c1cb566e",
   "metadata": {
    "tags": []
   },
   "outputs": [],
   "source": [
    "from sklearn.preprocessing import LabelEncoder\n",
    "le = LabelEncoder()\n",
    "\n",
    "le.fit(y_train)"
   ]
  },
  {
   "cell_type": "code",
   "execution_count": null,
   "id": "16f1d680-3b17-4e47-ad19-33efefb9f4b0",
   "metadata": {
    "tags": []
   },
   "outputs": [],
   "source": [
    "y_train_processed = le.transform(y_train)\n",
    "y_test_processed = le.transform(y_test)"
   ]
  },
  {
   "cell_type": "code",
   "execution_count": null,
   "id": "ae7e21cc-5f7d-45b8-a63c-697921a5e764",
   "metadata": {
    "tags": []
   },
   "outputs": [],
   "source": [
    "y_train_processed"
   ]
  },
  {
   "cell_type": "code",
   "execution_count": null,
   "id": "a593b8d9-a5b7-477d-989d-b4cf1aea3da0",
   "metadata": {
    "tags": []
   },
   "outputs": [],
   "source": [
    "from sklearn.preprocessing import OrdinalEncoder\n",
    "oe = OrdinalEncoder(categories = [x_train[i].unique() for i in obj_cols])\n",
    "oe.fit(x_train[obj_cols])\n",
    "x_train_cat_encoded = oe.transform(x_train[obj_cols])\n",
    "x_test_cat_encoded = oe.transform(x_test[obj_cols])"
   ]
  },
  {
   "cell_type": "code",
   "execution_count": null,
   "id": "275db9fa-51ae-4515-a531-ab642a400b8a",
   "metadata": {
    "tags": []
   },
   "outputs": [],
   "source": [
    "x_train_cat_encoded"
   ]
  },
  {
   "cell_type": "code",
   "execution_count": null,
   "id": "dc100db6-d9c7-4aff-94b6-5f075384de2c",
   "metadata": {
    "tags": []
   },
   "outputs": [],
   "source": [
    "from sklearn.preprocessing import MinMaxScaler\n",
    "scaler = MinMaxScaler()\n",
    "scaler.fit(x_train[float_cols])\n",
    "\n",
    "x_train_float_encoded = scaler.transform(x_train[float_cols])\n",
    "x_test_float_encoded = scaler.transform(x_test[float_cols])"
   ]
  },
  {
   "cell_type": "code",
   "execution_count": null,
   "id": "08ad33ee-63b3-40c2-ad6f-e091123a7115",
   "metadata": {
    "tags": []
   },
   "outputs": [],
   "source": [
    "x_train_float_encoded"
   ]
  },
  {
   "cell_type": "code",
   "execution_count": null,
   "id": "d9e54b16-5955-4b3b-b24c-7af6e5265aeb",
   "metadata": {
    "tags": []
   },
   "outputs": [],
   "source": [
    "x_train_processed = np.hstack((x_train_cat_encoded, x_train_float_encoded))\n",
    "x_test_processed = np.hstack((x_test_cat_encoded, x_test_float_encoded))"
   ]
  },
  {
   "cell_type": "code",
   "execution_count": null,
   "id": "d8f0e9e4-dfa5-44d3-930c-a07b8b3a51e0",
   "metadata": {
    "tags": []
   },
   "outputs": [],
   "source": [
    "feature_names = np.concatenate([obj_cols, float_cols])"
   ]
  },
  {
   "cell_type": "code",
   "execution_count": null,
   "id": "fcab9b97-39af-4a89-9387-d1966d29678d",
   "metadata": {
    "tags": []
   },
   "outputs": [],
   "source": [
    "x_train_final = pd.DataFrame(x_train_processed, columns = feature_names)"
   ]
  },
  {
   "cell_type": "code",
   "execution_count": null,
   "id": "2ffa8308-abfd-4fc0-8d27-ea6a20e4c980",
   "metadata": {
    "tags": []
   },
   "outputs": [],
   "source": [
    "from sklearn.metrics import accuracy_score, confusion_matrix, classification_report\n",
    "from sklearn.linear_model import LogisticRegression\n",
    "lr = LogisticRegression()\n",
    "lr.fit(x_train_processed, y_train_processed)\n",
    "y_pred = lr.predict(x_test_processed)\n",
    "print(accuracy_score(y_test_processed, y_pred))\n",
    "print(confusion_matrix(y_test_processed, y_pred))"
   ]
  },
  {
   "cell_type": "code",
   "execution_count": null,
   "id": "b32898f1-d776-4463-8834-9b7013d22db3",
   "metadata": {
    "tags": []
   },
   "outputs": [],
   "source": [
    "le.inverse_transform([0,1])"
   ]
  },
  {
   "cell_type": "code",
   "execution_count": null,
   "id": "385d085f-da07-4f13-860a-c68b8877512f",
   "metadata": {
    "tags": []
   },
   "outputs": [],
   "source": [
    "df2 = pd.read_csv(r\"C:\\Users\\Administrator\\Documents\\Datasets\\Autism\\Sample Dataset.csv\")"
   ]
  },
  {
   "cell_type": "code",
   "execution_count": null,
   "id": "472f7cf4-2d7d-4e49-bf45-b34b9e7d3691",
   "metadata": {
    "tags": []
   },
   "outputs": [],
   "source": [
    "X = df2.drop('Case_No' , axis = 1)\n",
    "X = X.drop('ASD', axis = 1)\n",
    "Y = df2['ASD']\n",
    "X.shape, Y.shape"
   ]
  },
  {
   "cell_type": "code",
   "execution_count": null,
   "id": "48f1e8f1-0e7f-4ac4-83a5-3315e478cb65",
   "metadata": {
    "tags": []
   },
   "outputs": [],
   "source": [
    "obj_cols2 = X.select_dtypes(include = 'object').columns\n",
    "obj_cols2"
   ]
  },
  {
   "cell_type": "code",
   "execution_count": null,
   "id": "729aff4b-5709-4b88-83d8-c978e8f33630",
   "metadata": {
    "tags": []
   },
   "outputs": [],
   "source": [
    "float_cols2 = X.select_dtypes(include = 'int64').columns\n",
    "float_cols2"
   ]
  },
  {
   "cell_type": "code",
   "execution_count": null,
   "id": "164c529f-6b32-4627-ae9c-ac53d2b9aeb4",
   "metadata": {
    "tags": []
   },
   "outputs": [],
   "source": [
    "from sklearn.preprocessing import OrdinalEncoder\n",
    "oe = OrdinalEncoder(categories = [X[i].unique() for i in obj_cols2])\n",
    "oe.fit(X[obj_cols2])\n",
    "X_cat_encoded = oe.transform(X[obj_cols2])"
   ]
  },
  {
   "cell_type": "code",
   "execution_count": null,
   "id": "cb1051f8-5e8d-4140-b48f-bc1d8fdfaf74",
   "metadata": {
    "tags": []
   },
   "outputs": [],
   "source": [
    "X_cat_encoded"
   ]
  },
  {
   "cell_type": "code",
   "execution_count": null,
   "id": "4ea836ae-9758-4816-acf2-a855e119f9d9",
   "metadata": {
    "tags": []
   },
   "outputs": [],
   "source": [
    "from sklearn.preprocessing import MinMaxScaler\n",
    "scaler = MinMaxScaler()\n",
    "scaler.fit(X[float_cols2])\n",
    "\n",
    "X_float_encoded = scaler.transform(X[float_cols2])"
   ]
  },
  {
   "cell_type": "code",
   "execution_count": null,
   "id": "d4489051-a1a0-49ec-a6c9-3de70d49e29c",
   "metadata": {
    "tags": []
   },
   "outputs": [],
   "source": [
    "X_processed = np.hstack((X_cat_encoded, X_float_encoded))"
   ]
  },
  {
   "cell_type": "code",
   "execution_count": null,
   "id": "f003222f-6935-4e98-839b-70c6f34677b5",
   "metadata": {
    "tags": []
   },
   "outputs": [],
   "source": [
    "feature_names2 = np.concatenate([obj_cols2, float_cols2])"
   ]
  },
  {
   "cell_type": "code",
   "execution_count": null,
   "id": "7493c24c-a66d-47ca-b32f-437e82f5b5b8",
   "metadata": {
    "tags": []
   },
   "outputs": [],
   "source": [
    "X_final = pd.DataFrame(X_processed, columns = feature_names2)"
   ]
  },
  {
   "cell_type": "code",
   "execution_count": null,
   "id": "ac3c0c4c-ab05-4a78-9b21-e8e894018e9e",
   "metadata": {
    "tags": []
   },
   "outputs": [],
   "source": [
    "from sklearn.metrics import accuracy_score, confusion_matrix, classification_report\n",
    "from sklearn.linear_model import LogisticRegression\n",
    "lr = LogisticRegression()\n",
    "lr.fit(x_train_processed, y_train_processed)\n",
    "y_pred = lr.predict(X_processed)"
   ]
  },
  {
   "cell_type": "code",
   "execution_count": null,
   "id": "79195c1c-d3bb-4e90-b737-3f95341080f7",
   "metadata": {
    "tags": []
   },
   "outputs": [],
   "source": [
    "print(\"ASD Possible : \", y_pred)"
   ]
  }
 ],
 "metadata": {
  "kernelspec": {
   "display_name": "Python 3 (ipykernel)",
   "language": "python",
   "name": "python3"
  },
  "language_info": {
   "codemirror_mode": {
    "name": "ipython",
    "version": 3
   },
   "file_extension": ".py",
   "mimetype": "text/x-python",
   "name": "python",
   "nbconvert_exporter": "python",
   "pygments_lexer": "ipython3",
   "version": "3.10.11"
  }
 },
 "nbformat": 4,
 "nbformat_minor": 5
}
